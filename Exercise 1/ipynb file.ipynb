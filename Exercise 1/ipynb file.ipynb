{
 "cells": [
  {
   "cell_type": "markdown",
   "metadata": {},
   "source": [
    "# 1. Nested cross-validation exercise\n",
    "## Nested cross-validation for feature selection with nearest neighbors <br>\n",
    "- Use Python 3 to program both a hyper-parameter selection method based on 5-fold cross-validation and a nested 5-fold cross-validation for estimating the prediction performance of models inferred with this automatic selection approach. Use base learning algorithm provided in the exercise, namely the \"use_ith_feature\" method, so that the value of the hyper-parameter i is automatically selected from the range from 1 to 100 of alternative values. The provided base learning algorithm \"use_ith_feature\" is 1-nearest neighbor that uses only the ith feature of the data given to it. The 5-fold CV based hyper-parameter selection procedure is supposed to select the best feature, e.g. the value of i, based on C-index evaluated with predictions obtained with 5-fold cross-validation. A ready-made implementation of C-index is also provided in the exercise. In nested 5-fold cross-validation, a C_index value is further evaluated on the predictions obtained from an outer 5-fold cross-validation. During each round of this outer 5-fold CV, the whole feature selection process based on inner 5-fold CV is separately done and the selected feature is used for prediction for the test data points held out during that round of the outer CV. Accordingly, the actual learning algorithm, whose prediction performance will be evaluated with nested CV, is the one that automatically selects the single best feature with 5-fold cross-validation based model selection (see the lectures and the pseudo codes presented on them for more info on this interpretation).\n",
    "- Compare the C-index produced by nested 5-fold CV with the result of ordinary 5-fold CV with the best value of i e.g. the feature providing the highest 5-fold CV C-index, and show the C-index difference between the two methods.\n",
    "- Use the provided implementation of the \"use_ith_feature\" learning algorithm and C-index functions in your exercise.\n",
    "\n",
    "As a summary, for completing this exercise implement the following steps: \n",
    "_______________________________________________________________\n",
    "#### 1. Use 5-fold cross-validation for determining the optimal i-parameter for the data (X_train.csv, y_prediction.csv) from the set of possible values of i e.g. {1,...,100}. When you have found the optimal i, save the corresponding C-index (call it 5_fold_c_index) for this parameter.\n",
    "#### 2. Similarly, use nested cross-validation ( 5-fold CV both in outer and inner folds) for estimating the C-index (call it n_5_fold_c_index) of the method that selects the best feature with 5-fold approach. \n",
    "#### 3. Return both this notebook and as a PDF-file made from it in the exercise submit page. \n",
    "_______________________________________________________________\n",
    "\n",
    "Remember to use the provided learning algorithm use_ith_feature and C-index functions in your implementation! "
   ]
  },
  {
   "cell_type": "markdown",
   "metadata": {},
   "source": [
    "## Import libraries"
   ]
  },
  {
   "cell_type": "code",
   "execution_count": 7,
   "metadata": {},
   "outputs": [],
   "source": [
    "#In this cell import all libraries you need. For example: \n",
    "import numpy as np\n",
    "import pandas as pd\n",
    "from sklearn.model_selection import KFold"
   ]
  },
  {
   "cell_type": "markdown",
   "metadata": {},
   "source": [
    "## Provided functions "
   ]
  },
  {
   "cell_type": "code",
   "execution_count": 8,
   "metadata": {},
   "outputs": [],
   "source": [
    "\"\"\"\n",
    "C-index function: \n",
    "- INPUTS: \n",
    "'y' an array of the true output values\n",
    "'yp' an array of predicted output values\n",
    "- OUTPUT: \n",
    "The c-index value\n",
    "\"\"\"\n",
    "def cindex(y, yp):\n",
    "    n = 0\n",
    "    h_num = 0 \n",
    "    for i in range(0, len(y)):\n",
    "        t = y[i]\n",
    "        p = yp[i]\n",
    "        for j in range(i+1, len(y)):\n",
    "            nt = y[j]\n",
    "            np = yp[j]\n",
    "            if (t != nt): \n",
    "                n = n + 1\n",
    "                if (p < np and t < nt) or (p > np and t > nt): \n",
    "                    h_num += 1\n",
    "                elif (p == np):\n",
    "                    h_num += 0.5\n",
    "    return h_num/n\n",
    "\n",
    "\"\"\"\n",
    "Self-contained 1-nearest neighbor using only a single feature\n",
    "- INPUTS: \n",
    "'X_train' a numpy matrix of the X-features of the train data points\n",
    "'y_train' a numpy matrix of the output values of the train data points\n",
    "'X_test' a numpy matrix of the X-features of the test data points\n",
    "'i' the index of the feature to be used with 1-nearest neighbor\n",
    "- OUTPUT: \n",
    "'y_predictions' a list of the output value predictions\n",
    "\"\"\"\n",
    "def use_ith_feature(X_train, y_train, X_test, i):\n",
    "    y_predictions = []\n",
    "    for test_ind in range(0, X_test.shape[0]):\n",
    "        diff = X_test[test_ind, i] - X_train[:, i]\n",
    "        distances = np.sqrt(diff * diff)\n",
    "        sort_inds = np.array(np.argsort(distances), dtype=int)\n",
    "        y_predictions.append(y_train[sort_inds[0]])\n",
    "    return y_predictions\n"
   ]
  },
  {
   "cell_type": "markdown",
   "metadata": {},
   "source": [
    "## Your implementation here"
   ]
  },
  {
   "cell_type": "code",
   "execution_count": 9,
   "metadata": {},
   "outputs": [],
   "source": [
    "# In this cell implement the required tasks\n",
    "# Read the csv files, data dose not contain headers(column names).\n",
    "# Dimension of X_train.csv is (30, 100) and for y_prediction.csv is (30, 1)\n",
    "\n",
    "# Loading the feature matrix X_train and target variable y_prediction\n",
    "x_train = pd.read_csv(r'C:\\Users\\Comp-servis\\Desktop\\Evaluation of Machine Learning Methods\\Exercise 1\\X_train.csv')\n",
    "y_prediction = pd.read_csv(r'C:\\Users\\Comp-servis\\Desktop\\Evaluation of Machine Learning Methods\\Exercise 1\\y_prediction.csv')\n",
    "\n",
    "# Converting the data to numpy arrays\n",
    "X_train = x_train.values\n",
    "y_train = y_prediction.values.squeeze()\n",
    "\n",
    "# The resulting X_train and y_prediction arrays will be used for Machine Learning tasks"
   ]
  },
  {
   "cell_type": "code",
   "execution_count": 10,
   "metadata": {},
   "outputs": [
    {
     "name": "stdout",
     "output_type": "stream",
     "text": [
      "The optimal i-parameter is 19\n",
      "The corresponding C-index value for the optimal i-parameter in the cross-validation is 0.7066666666666667\n",
      "The C-index of the method that selects the best feature in the nested cross-validation is 0.5599999999999999\n",
      "The difference between the C-indexes is 0.14666666666666672\n"
     ]
    }
   ],
   "source": [
    "# Defining the select_hyperparameter function that selects the optimal i-parameter and corresponding C-index\n",
    "def select_hyperparameter(X, y, kf):\n",
    "    \n",
    "    # Variables to store the optimal i-parameter and corresponding C-index\n",
    "    best_i = -1\n",
    "    best_c_index = 0\n",
    "\n",
    "    # Iterating from 0 till 100\n",
    "    for i in range(0, 100):\n",
    "        \n",
    "        # A list to store all the C-index scores in each fold\n",
    "        c_index_scores = []\n",
    "        \n",
    "        # Performing 5-fold cross-validation using the provided KFold object (kf)\n",
    "        for train_index, val_index in kf.split(X):\n",
    "            X_train_fold, X_val_fold = X[train_index], X[val_index]\n",
    "            y_train_fold, y_val_fold = y[train_index], y[val_index]\n",
    "\n",
    "            # Using the provided use_ith_feature function for predictions\n",
    "            y_pred = use_ith_feature(X_train_fold, y_train_fold, X_val_fold, i)\n",
    "            \n",
    "            # Determining C-index for the current fold\n",
    "            score = cindex(y_val_fold, y_pred)\n",
    "            \n",
    "            # Appending the result to the list\n",
    "            c_index_scores.append(score)\n",
    "\n",
    "        # Calculating the average C-index for the current hyperparameter\n",
    "        avg_c_index = np.mean(c_index_scores)\n",
    "        \n",
    "        # Updating the best hyperparameter in the case of a higher C-index\n",
    "        if avg_c_index > best_c_index:\n",
    "            best_c_index = avg_c_index\n",
    "            best_i = i\n",
    "\n",
    "    # Returning the best hyperparameter and its corresponding C-index\n",
    "    return best_i, best_c_index\n",
    "\n",
    "# Defining the nested_cv function for the nested cross-validation method\n",
    "def nested_cv(X, y):\n",
    "    \n",
    "    # A list to store C-index scores for the outer folds\n",
    "    outer_scores = []\n",
    "\n",
    "    # Creating a 5-fold cross-validation object for the outer loop\n",
    "    outer_kf = KFold(n_splits=5)\n",
    "    \n",
    "    # Iterating over the outer folds\n",
    "    for train_index, test_index in outer_kf.split(X):\n",
    "        \n",
    "        # Spliting the data into training and testing sets for the outer fold\n",
    "        X_train_fold, X_test_fold = X[train_index], X[test_index]\n",
    "        y_train_fold, y_test_fold = y[train_index], y[test_index]\n",
    "\n",
    "        # Creating a 5-fold cross-validation object for the inner loop\n",
    "        inner_kf = KFold(n_splits=5)\n",
    "        \n",
    "        # Determining the best hyperparameter using the inner loop\n",
    "        best_i, _ = select_hyperparameter(X_train_fold, y_train_fold, inner_kf)\n",
    "        \n",
    "        # Using the best hyperparameter to make predictions on the test set of the outer fold\n",
    "        y_pred = use_ith_feature(X_train_fold, y_train_fold, X_test_fold, best_i)\n",
    "        \n",
    "        # Calculating C-index for the predictions\n",
    "        score = cindex(y_test_fold, y_pred)\n",
    "        \n",
    "        # Appending the result to the list\n",
    "        outer_scores.append(score)\n",
    "    \n",
    "    # Returning the mean C-index over all outer folds\n",
    "    return np.mean(outer_scores)\n",
    "\n",
    "# Obtaining values for the optimal i-parameter and corresponding c-index\n",
    "best_i, five_fold_c_index = select_hyperparameter(X_train, y_train, KFold(n_splits=5, shuffle=True))\n",
    "\n",
    "# The C-index of the method that selects the best feature in the nested cross-validation\n",
    "n_5_fold_c_index = nested_cv(X_train, y_train)\n",
    "\n",
    "print('The optimal i-parameter is', best_i)\n",
    "\n",
    "print('The corresponding C-index value for the optimal i-parameter in the cross-validation is', five_fold_c_index)\n",
    "\n",
    "print('The C-index of the method that selects the best feature in the nested cross-validation is', n_5_fold_c_index)\n",
    "\n",
    "print('The difference between the C-indexes is', five_fold_c_index - n_5_fold_c_index)\n"
   ]
  },
  {
   "cell_type": "markdown",
   "metadata": {},
   "source": [
    "The C-index value for cross-validation is higher than nested cross-validation, which means that the performance of the cross-validation is better than that of the nested cross-validation. This interesting situation can be explained with the fact that nested cross-validation method does not perform well in the small datasets. Nested cross-validation introduces unnecessary complexity in the small datasets, which leads to high variance in performance estimates."
   ]
  }
 ],
 "metadata": {
  "kernelspec": {
   "display_name": "Python 3 (ipykernel)",
   "language": "python",
   "name": "python3"
  },
  "language_info": {
   "codemirror_mode": {
    "name": "ipython",
    "version": 3
   },
   "file_extension": ".py",
   "mimetype": "text/x-python",
   "name": "python",
   "nbconvert_exporter": "python",
   "pygments_lexer": "ipython3",
   "version": "3.11.4"
  },
  "toc": {
   "base_numbering": 1,
   "nav_menu": {},
   "number_sections": false,
   "sideBar": true,
   "skip_h1_title": false,
   "title_cell": "Table of Contents",
   "title_sidebar": "Contents",
   "toc_cell": false,
   "toc_position": {},
   "toc_section_display": true,
   "toc_window_display": true
  },
  "varInspector": {
   "cols": {
    "lenName": 16,
    "lenType": 16,
    "lenVar": 40
   },
   "kernels_config": {
    "python": {
     "delete_cmd_postfix": "",
     "delete_cmd_prefix": "del ",
     "library": "var_list.py",
     "varRefreshCmd": "print(var_dic_list())"
    },
    "r": {
     "delete_cmd_postfix": ") ",
     "delete_cmd_prefix": "rm(",
     "library": "var_list.r",
     "varRefreshCmd": "cat(var_dic_list()) "
    }
   },
   "types_to_exclude": [
    "module",
    "function",
    "builtin_function_or_method",
    "instance",
    "_Feature"
   ],
   "window_display": false
  }
 },
 "nbformat": 4,
 "nbformat_minor": 2
}
