{
 "cells": [
  {
   "cell_type": "markdown",
   "metadata": {},
   "source": [
    "# Exercise 3 | TKO_7092 Evaluation of Machine Learning Methods 2024\n",
    "## deadline: 14.2.2024 - 23:59\n",
    "\n",
    "Regarding any questions about this exercise, please contact course assistant Jonne Pohjankukka (jjepoh@utu.fi)\n",
    "\n",
    "********************************************\n",
    "\n",
    "Student name: Ruslan Hasanov\n",
    "\n",
    "Student number: 2310614\n",
    "\n",
    "Student email: ruhasa@utu.fi\n",
    "\n",
    "********************************************"
   ]
  },
  {
   "cell_type": "markdown",
   "metadata": {},
   "source": [
    "## Water permeability prediction in forestry <br>\n",
    "\n",
    "In this task, the client wants you to estimate the spatial prediction performance of K-nearest neighbor regression model with K=15 (15NN), using spatial leave-one-out cross-validation (i.e. SKCV, with number of folds == number of data points). The client wants you to use the C-index as the performance measure.  \n",
    "\n",
    "In other words, the client wants you to answer the question: \"What happens to the prediction performance of water permeability using 15-nearest neighbor regression model, when the geographical distance between known data and unknown data increases?\".\n",
    "\n",
    "In this task, you have three data files available (with 1691 data points): \n",
    "\n",
    "- input.csv, contains the 75 predictor features. \n",
    "- output.csv, contains the water permebility values. \n",
    "- coordinates.csv, contains the corresponding geographical coordinate locations of the data points. The unit of the coordinates is metre, and you can use Euclidean distance to calculate distances between the coordinate points. \n",
    "\n",
    "Implement the following tasks to complete this exercise:\n",
    "\n",
    "********************************************\n",
    "\n",
    "#### 1. Z-score standardize the predictor features (input.csv). \n",
    "\n",
    "#### 2. Perform spatial leave-one-out cross-validation with 15NN model for the provided data set (refer to the lectures 3.1.3 and 3.1.4 for help). Estimate the water permeability prediction performance (using 15NN model and C-index) with the following distance parameter values: d = 0, 10, 20, ..., 250 (that is, 10 meter intervals from 0m to 250m). \n",
    "\n",
    "#### 3. When you have calculated the C-index performance measure for each value of d, visualize the results with the C-index (y-axis) as a function of d (x-axis).\n",
    "\n",
    "********************************************\n",
    "\n",
    "Your .ipynb-file must include the following: \n",
    "\n",
    "- Your own implementation of the spatial leave-one-out cross-validation for the current task. You can use third-party libraries (e.g. Scikit-learn) if you want for implementing e.g. the 15-nearest neighbor. Also, try to follow good programming practices and add comments to relevant parts of your code explaining what you are doing and why.\n",
    "\n",
    "\n",
    "- Plot of the graph C-index vs. distance parameter value. \n",
    "\n",
    "\n",
    "<br><br><br>\n",
    "-- START IMPLEMENTING YOUR EXERCISE AFTER THIS LINE --\n",
    "<br><br><br>"
   ]
  },
  {
   "cell_type": "markdown",
   "metadata": {},
   "source": [
    "### Import necessary libraries"
   ]
  },
  {
   "cell_type": "code",
   "execution_count": 1,
   "metadata": {},
   "outputs": [],
   "source": [
    "# In this cell, import all the libraries that you need. For example: \n",
    "import numpy as np\n",
    "import pandas as pd\n",
    "from sklearn.preprocessing import StandardScaler\n",
    "from sklearn.neighbors import KNeighborsRegressor\n",
    "import matplotlib.pyplot as plt\n",
    "import seaborn as sns"
   ]
  },
  {
   "cell_type": "markdown",
   "metadata": {},
   "source": [
    "### Read in the datasets"
   ]
  },
  {
   "cell_type": "code",
   "execution_count": 2,
   "metadata": {},
   "outputs": [
    {
     "name": "stdout",
     "output_type": "stream",
     "text": [
      "Number of rows and columns of input dataframe are: (1691, 75)\n",
      "Number of rows and columns of output dataframe are: (1691, 1)\n",
      "Number of rows and columns of coordinates dataframe are: (1691, 2)\n"
     ]
    }
   ],
   "source": [
    "# In this cell, read the files input.csv, output.csv and coordinates.csv.\n",
    "# Print out the dataset dimesions (i.e. number of rows and columns).\n",
    "\n",
    "# Reading the input.csv\n",
    "input_df = pd.read_csv('C:\\\\Users\\\\Comp-servis\\\\Desktop\\\\input.csv', header = None)\n",
    "\n",
    "print('Number of rows and columns of input dataframe are:', input_df.shape) # Printing the dimensions\n",
    "# Reading the output.csv\n",
    "output_df = pd.read_csv('C:\\\\Users\\\\Comp-servis\\\\Desktop\\\\output.csv', header = None)\n",
    "print('Number of rows and columns of output dataframe are:', output_df.shape) # Printing the dimensions\n",
    "\n",
    "# Reading the coordinates.csv\n",
    "coordinates_df = pd.read_csv('C:\\\\Users\\\\Comp-servis\\\\Desktop\\\\coordinates.csv', header = None)\n",
    "print('Number of rows and columns of coordinates dataframe are:', coordinates_df.shape) # Printing the dimensions"
   ]
  },
  {
   "cell_type": "markdown",
   "metadata": {},
   "source": [
    "### Standardization of the predictor features (input.csv)"
   ]
  },
  {
   "cell_type": "code",
   "execution_count": 3,
   "metadata": {},
   "outputs": [],
   "source": [
    "# Standardize the predictor features (input.csv) by removing the mean and scaling to unit variance. \n",
    "# In other words, z-score the predictor features. You are allowed to use third-party libraries for doing this.\n",
    "\n",
    "# Setting the StandardScaler\n",
    "scaler = StandardScaler()\n",
    "\n",
    "# Fitting and transforming the data\n",
    "scaled_input = pd.DataFrame(scaler.fit_transform(input_df.values))"
   ]
  },
  {
   "cell_type": "markdown",
   "metadata": {},
   "source": [
    "### Functions and analysis code"
   ]
  },
  {
   "cell_type": "code",
   "execution_count": 4,
   "metadata": {},
   "outputs": [],
   "source": [
    "# Include here all the functions and other relevant code that you need in order to implement the task.\n",
    "\n",
    "# Note! Utilize the following two functions in your implementation:\n",
    "\n",
    "### Function for calculating C-index ###\n",
    "# y: array containing true label values.\n",
    "# yp: array containing the predicted label values.\n",
    "\n",
    "def cindex(y, yp):\n",
    "    n = 0\n",
    "    h_num = 0 \n",
    "    for i in range(0, len(y)):\n",
    "        t = y[i]\n",
    "        p = yp[i]\n",
    "        for j in range(i+1, len(y)):\n",
    "            nt = y[j]\n",
    "            np = yp[j]\n",
    "            if (t != nt): \n",
    "                n = n + 1\n",
    "                if (p < np and t < nt) or (p > np and t > nt): \n",
    "                    h_num += 1\n",
    "                elif (p == np):\n",
    "                    h_num += 0.5\n",
    "    return h_num/n\n",
    "\n",
    "\n",
    "### Function for calculating the pairwise spatial distances between the data points ###\n",
    "# The function will return a n-by-n matrix of Euclidean distances. For example, the\n",
    "# distance_matrix element at indices i,j will contain the spatial distance between \n",
    "# data point i and j. Note that the element value is 0 always when i==j.\n",
    "# coordinate_array: n-by-2 array containing the coordinates of the exercise data points.\n",
    "def cdists(coordinate_array):\n",
    "    number_of_observations = coordinate_array.shape[0]\n",
    "    distance_matrix = np.zeros((number_of_observations, number_of_observations))\n",
    "    for i in range(0, number_of_observations):\n",
    "        distance_matrix[i, :] = np.sqrt(np.sum((coordinate_array - coordinate_array[i])**2, axis=1))\n",
    "    return distance_matrix\n",
    "\n",
    "def spat_loocv(input_data, output_data, distance_parameters):\n",
    "    \n",
    "    # Calculating distance matrix based on coordinates data\n",
    "    distance_matrix = cdists(coordinates_df.values)\n",
    "    \n",
    "    # Initializing KNN Regressor with 15 neighbors\n",
    "    knn = KNeighborsRegressor(n_neighbors=15)\n",
    "    \n",
    "    # Creating an array of indices from 0 to the length of input_data\n",
    "    all_ind = np.arange(len(input_data))\n",
    "    \n",
    "    # A List to store average C-index for each distance parameter\n",
    "    c_index_list = []\n",
    "    \n",
    "    # Looping over each distance parameter\n",
    "    for d in distance_parameters:\n",
    "        \n",
    "        # A list to store C-index for the current distance parameter\n",
    "        c_index_d = []\n",
    "        \n",
    "        # Lists to store predicted and actual output values\n",
    "        y_pred = []\n",
    "        y_test = []\n",
    "        \n",
    "        # Loop for Leave-One-Out Cross Validation\n",
    "        for i in range(len(input_data)):\n",
    "            \n",
    "            # Finding indices of nearest neighbors\n",
    "            neighbors_indices = np.argsort(distance_matrix[i])  \n",
    "            neighbors_inside_distance = []\n",
    "            \n",
    "            # Filtering neighbors based on distance threshold\n",
    "            for index in neighbors_indices:\n",
    "                if distance_matrix[i][index] > d:\n",
    "                    break\n",
    "                else:\n",
    "                    neighbors_inside_distance.append(index)\n",
    "            \n",
    "            # Removing neighbors inside the distance threshold from the training set\n",
    "            train_ind = np.delete(all_ind, neighbors_inside_distance)\n",
    "            \n",
    "            # Training KNN regressor on the modified training set\n",
    "            knn.fit(input_data[train_ind], output_data[train_ind])\n",
    "            \n",
    "            # Predicting output for the current data point\n",
    "            predictions = knn.predict(input_data[i].reshape(1, -1))\n",
    "            y_pred.extend(predictions)\n",
    "            \n",
    "            # Appending actual output for the current data point\n",
    "            y_test.extend(output_data[i])\n",
    "        \n",
    "        # Calculating C-index for the predictions made\n",
    "        c_index = cindex(y_test, y_pred)\n",
    "        c_index_d.append(c_index)        \n",
    "        \n",
    "        # Append average C-index for the current distance parameter\n",
    "        c_index_list.append(np.mean(c_index_d))\n",
    "        \n",
    "    return c_index_list"
   ]
  },
  {
   "cell_type": "markdown",
   "metadata": {},
   "source": [
    "### Results for spatial leave-one-out cross-validation with 15-nearest neighbor regression model"
   ]
  },
  {
   "cell_type": "code",
   "execution_count": 5,
   "metadata": {
    "scrolled": true
   },
   "outputs": [
    {
     "data": {
      "image/png": "[encoded data removed]",
      "text/plain": [
       "<Figure size 1000x600 with 1 Axes>"
      ]
     },
     "metadata": {},
     "output_type": "display_data"
    }
   ],
   "source": [
    "# Performing the Spatial leave-One-Out cross-validation with 15-nearest neighbor regression model and visualizing the results\n",
    "\n",
    "# Converting input_data and output_data to arrays\n",
    "X = input_df.values  \n",
    "y = output_df.values\n",
    "\n",
    "# Defining range of distance parameters\n",
    "distance = range(0, 251, 10)\n",
    "\n",
    "# Performing spatial leave-one-out cross-validation\n",
    "c_ind = spat_loocv(X, y, distance)\n",
    "\n",
    "# Creating an array of distances based on the length of c_ind\n",
    "dist = np.arange(0, len(c_ind) * 10, 10)\n",
    "    \n",
    "# Setting the seaborn style\n",
    "sns.set_style(\"darkgrid\")\n",
    "\n",
    "# Creating the figure\n",
    "plt.figure(figsize=(10, 6))\n",
    "\n",
    "# Plotting the data with markers and line style\n",
    "plt.plot(dist, c_ind, marker='o', linestyle='-', color='blue', label='C-index')\n",
    "\n",
    "# The title\n",
    "plt.title('Spatial prediction performance of kNN (water permeability)')\n",
    "\n",
    "# labels to x and y axes with font size\n",
    "plt.xlabel('Distance parameter value (meters)')\n",
    "plt.ylabel('Concordance index (C-index)')\n",
    "\n",
    "# Adding a legend\n",
    "plt.legend()\n",
    "\n",
    "# Displaying grid lines\n",
    "plt.grid(True)\n",
    "\n",
    "# Customizing marker size and color\n",
    "plt.scatter(dist, c_ind, color='orange', s=50, label='Data Points')\n",
    "\n",
    "# Showing the plot\n",
    "plt.show()"
   ]
  },
  {
   "cell_type": "markdown",
   "metadata": {},
   "source": [
    "### Interpretation of the results"
   ]
  },
  {
   "cell_type": "code",
   "execution_count": 6,
   "metadata": {},
   "outputs": [],
   "source": [
    "# In this cell, give a brief commentary on the results, what happens to the prediction \n",
    "# performance as the prediction distance increases?"
   ]
  },
  {
   "cell_type": "markdown",
   "metadata": {},
   "source": [
    "According to the graph above, it can be seen that the performance value (C-index) decreases as the prediction distance increases ,as expected, since the spatial data is used. The c-index value is above or around 0.7 from the distance 0 to aprroximately 50 m. A sharp decrease in model performance is noticable at the distance of 100 m. The model can perform good results up to 100 m prediction range. It should be advised that this model should not be implemented after this limit of 100 m prediction range, due to a sharp performance drop."
   ]
  }
 ],
 "metadata": {
  "kernelspec": {
   "display_name": "Python 3 (ipykernel)",
   "language": "python",
   "name": "python3"
  },
  "language_info": {
   "codemirror_mode": {
    "name": "ipython",
    "version": 3
   },
   "file_extension": ".py",
   "mimetype": "text/x-python",
   "name": "python",
   "nbconvert_exporter": "python",
   "pygments_lexer": "ipython3",
   "version": "3.11.4"
  },
  "toc": {
   "base_numbering": 1,
   "nav_menu": {},
   "number_sections": false,
   "sideBar": true,
   "skip_h1_title": false,
   "title_cell": "Table of Contents",
   "title_sidebar": "Contents",
   "toc_cell": false,
   "toc_position": {},
   "toc_section_display": true,
   "toc_window_display": true
  },
  "varInspector": {
   "cols": {
    "lenName": 16,
    "lenType": 16,
    "lenVar": 40
   },
   "kernels_config": {
    "python": {
     "delete_cmd_postfix": "",
     "delete_cmd_prefix": "del ",
     "library": "var_list.py",
     "varRefreshCmd": "print(var_dic_list())"
    },
    "r": {
     "delete_cmd_postfix": ") ",
     "delete_cmd_prefix": "rm(",
     "library": "var_list.r",
     "varRefreshCmd": "cat(var_dic_list()) "
    }
   },
   "types_to_exclude": [
    "module",
    "function",
    "builtin_function_or_method",
    "instance",
    "_Feature"
   ],
   "window_display": false
  }
 },
 "nbformat": 4,
 "nbformat_minor": 2
}
